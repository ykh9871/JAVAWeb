{
 "cells": [
  {
   "cell_type": "code",
   "execution_count": 1,
   "metadata": {},
   "outputs": [
    {
     "name": "stdout",
     "output_type": "stream",
     "text": [
      "Collecting pymysql\n",
      "  Downloading PyMySQL-1.0.3-py3-none-any.whl (43 kB)\n",
      "     --------------------------------------- 43.7/43.7 kB 79.4 kB/s eta 0:00:00\n",
      "Installing collected packages: pymysql\n",
      "Successfully installed pymysql-1.0.3\n",
      "Note: you may need to restart the kernel to use updated packages.\n"
     ]
    }
   ],
   "source": [
    "# pip install pymysql"
   ]
  },
  {
   "cell_type": "code",
   "execution_count": 3,
   "metadata": {},
   "outputs": [
    {
     "name": "stdout",
     "output_type": "stream",
     "text": [
      "<pymysql.connections.Connection object at 0x000001DBE9971700>\n"
     ]
    }
   ],
   "source": [
    "db = pymysql.connect(host='localhost', port=3306, user='root', passwd='qwer1234', db='ecommerce', charset='utf8')\n",
    "\n",
    "print(db)"
   ]
  },
  {
   "cell_type": "code",
   "execution_count": 4,
   "metadata": {},
   "outputs": [
    {
     "name": "stdout",
     "output_type": "stream",
     "text": [
      "<pymysql.cursors.Cursor object at 0x000001DBE7877AF0>\n"
     ]
    }
   ],
   "source": [
    "cursor = db.cursor()\n",
    "\n",
    "print(cursor)"
   ]
  },
  {
   "cell_type": "code",
   "execution_count": 5,
   "metadata": {},
   "outputs": [],
   "source": [
    "# 1. 라이브러리 가져오기\n",
    "import pymysql\n",
    "\n",
    "# 2. 접속하기\n",
    "db = pymysql.connect(host='localhost', port=3306, user='root', passwd='qwer1234', db='ecommerce', charset='utf8')\n",
    "\n",
    "# 3. 커서 가져오기\n",
    "cursor = db.cursor()\n",
    "\n",
    "# 4. SQL 구문 만들기 (CRUD SQL 구문 등)\n",
    "sql = '''\n",
    "    CREATE TABLE product (\n",
    "        PRODUCT_CODE VARCHAR(20) NOT NULL,\n",
    "        TITLE VARCHAR(200) NOT NULL,\n",
    "        ORI_PRICE INT,\n",
    "        DISCOUNT_PRICE INT,\n",
    "        DISCOUNT_PERCENT INT,\n",
    "        DELIVERY VARCHAR(2),\n",
    "        PRIMARY KEY(PRODUCT_CODE)\n",
    "    );\n",
    "'''\n",
    "\n",
    "# 5. SQL 구문 실행하기\n",
    "cursor.execute(sql)\n",
    "\n",
    "# 6. DB에 Complete 하기\n",
    "db.commit()\n",
    "\n",
    "# 7. DB 연결 닫기\n",
    "db.close()"
   ]
  },
  {
   "attachments": {},
   "cell_type": "markdown",
   "metadata": {},
   "source": [
    "### 테이블 생성(삽입)"
   ]
  },
  {
   "cell_type": "code",
   "execution_count": 7,
   "metadata": {},
   "outputs": [],
   "source": [
    "import pymysql\n",
    "\n",
    "db = pymysql.connect(host = 'localhost', port = 3306, user = 'root', passwd = 'qwer1234', db = 'ecommerce', charset = 'utf8')\n",
    "\n",
    "cursor = db.cursor()\n",
    "\n",
    "sql = '''\n",
    "        INSERT INTO product VALUES\n",
    "        ('215673140', '스위트바니 여름신상 롱원피스', 23000, 6900, 70, 'F');\n",
    "'''\n",
    "cursor.execute(sql)\n",
    "\n",
    "db.commit()\n",
    "db.close()"
   ]
  },
  {
   "cell_type": "code",
   "execution_count": 9,
   "metadata": {},
   "outputs": [
    {
     "name": "stdout",
     "output_type": "stream",
     "text": [
      "INSERT INTO product VALUES(\n",
      "    '215673141', '스위트바니 여름신상5900원~롱원피스티셔츠/긴팔/반팔', 23000, 6900, 70, 'F'); \n",
      "INSERT INTO product VALUES(\n",
      "    '215673142', '스위트바니 여름신상5900원~롱원피스티셔츠/긴팔/반팔', 23000, 6900, 70, 'F'); \n",
      "INSERT INTO product VALUES(\n",
      "    '215673143', '스위트바니 여름신상5900원~롱원피스티셔츠/긴팔/반팔', 23000, 6900, 70, 'F'); \n",
      "INSERT INTO product VALUES(\n",
      "    '215673144', '스위트바니 여름신상5900원~롱원피스티셔츠/긴팔/반팔', 23000, 6900, 70, 'F'); \n",
      "INSERT INTO product VALUES(\n",
      "    '215673145', '스위트바니 여름신상5900원~롱원피스티셔츠/긴팔/반팔', 23000, 6900, 70, 'F'); \n",
      "INSERT INTO product VALUES(\n",
      "    '215673146', '스위트바니 여름신상5900원~롱원피스티셔츠/긴팔/반팔', 23000, 6900, 70, 'F'); \n",
      "INSERT INTO product VALUES(\n",
      "    '215673147', '스위트바니 여름신상5900원~롱원피스티셔츠/긴팔/반팔', 23000, 6900, 70, 'F'); \n",
      "INSERT INTO product VALUES(\n",
      "    '215673148', '스위트바니 여름신상5900원~롱원피스티셔츠/긴팔/반팔', 23000, 6900, 70, 'F'); \n",
      "INSERT INTO product VALUES(\n",
      "    '215673149', '스위트바니 여름신상5900원~롱원피스티셔츠/긴팔/반팔', 23000, 6900, 70, 'F'); \n",
      "INSERT INTO product VALUES(\n",
      "    '215673150', '스위트바니 여름신상5900원~롱원피스티셔츠/긴팔/반팔', 23000, 6900, 70, 'F'); \n"
     ]
    }
   ],
   "source": [
    "import pymysql\n",
    "\n",
    "db = pymysql.connect(host='127.0.0.1', port=3306, user='root', passwd='qwer1234', db='ecommerce', charset='utf8')\n",
    "\n",
    "cursor = db.cursor()\n",
    "\n",
    "for index in range(10):\n",
    "    product_code = 215673140 + index + 1\n",
    "    sql = \"\"\"INSERT INTO product VALUES(\n",
    "    '\"\"\" + str(product_code) + \"\"\"', '스위트바니 여름신상5900원~롱원피스티셔츠/긴팔/반팔', 23000, 6900, 70, 'F'); \"\"\"\n",
    "    print(sql)\n",
    "    cursor.execute(sql)\n",
    "\n",
    "db.commit()\n",
    "db.close()"
   ]
  },
  {
   "cell_type": "markdown",
   "metadata": {},
   "source": [
    "### 데이터 검색(조회)"
   ]
  },
  {
   "cell_type": "code",
   "execution_count": 11,
   "metadata": {},
   "outputs": [
    {
     "name": "stdout",
     "output_type": "stream",
     "text": [
      "('215673140', '스위트바니 여름신상 롱원피스', 23000, 6900, 70, 'F')\n",
      "('215673141', '스위트바니 여름신상5900원~롱원피스티셔츠/긴팔/반팔', 23000, 6900, 70, 'F')\n",
      "('215673142', '스위트바니 여름신상5900원~롱원피스티셔츠/긴팔/반팔', 23000, 6900, 70, 'F')\n",
      "('215673143', '스위트바니 여름신상5900원~롱원피스티셔츠/긴팔/반팔', 23000, 6900, 70, 'F')\n",
      "('215673144', '스위트바니 여름신상5900원~롱원피스티셔츠/긴팔/반팔', 23000, 6900, 70, 'F')\n",
      "('215673145', '스위트바니 여름신상5900원~롱원피스티셔츠/긴팔/반팔', 23000, 6900, 70, 'F')\n",
      "('215673146', '스위트바니 여름신상5900원~롱원피스티셔츠/긴팔/반팔', 23000, 6900, 70, 'F')\n",
      "('215673147', '스위트바니 여름신상5900원~롱원피스티셔츠/긴팔/반팔', 23000, 6900, 70, 'F')\n",
      "('215673148', '스위트바니 여름신상5900원~롱원피스티셔츠/긴팔/반팔', 23000, 6900, 70, 'F')\n",
      "('215673149', '스위트바니 여름신상5900원~롱원피스티셔츠/긴팔/반팔', 23000, 6900, 70, 'F')\n",
      "('215673150', '스위트바니 여름신상5900원~롱원피스티셔츠/긴팔/반팔', 23000, 6900, 70, 'F')\n"
     ]
    }
   ],
   "source": [
    "import pymysql\n",
    "db = pymysql.connect(host='localhost', port=3306, user='root', passwd='qwer1234', db='ecommerce', charset='utf8')\n",
    "cursor = db.cursor()\n",
    "\n",
    "sql = \"SELECT * FROM product\"\n",
    "cursor.execute(sql)\n",
    "\n",
    "result = cursor.fetchall()\n",
    "for record in result:\n",
    "    print(record)\n",
    "db.close()"
   ]
  },
  {
   "cell_type": "code",
   "execution_count": 13,
   "metadata": {},
   "outputs": [
    {
     "name": "stdout",
     "output_type": "stream",
     "text": [
      "('215673140', '스위트바니 여름신상 롱원피스', 23000, 6900, 70, 'F')\n",
      "('215673141', '스위트바니 여름신상5900원~롱원피스티셔츠/긴팔/반팔', 23000, 6900, 70, 'F')\n",
      "('215673142', '스위트바니 여름신상5900원~롱원피스티셔츠/긴팔/반팔', 23000, 6900, 70, 'F')\n"
     ]
    }
   ],
   "source": [
    "import pymysql\n",
    "db = pymysql.connect(host='localhost', port=3306, user='root', passwd='qwer1234', db='ecommerce', charset='utf8')\n",
    "cursor = db.cursor()\n",
    "\n",
    "sql = \"SELECT * FROM product\"\n",
    "cursor.execute(sql)\n",
    "\n",
    "result = cursor.fetchmany(size = 3)\n",
    "for record in result:\n",
    "    print(record)\n",
    "db.close()\n",
    "\n",
    "# fetchmany() 함수의 인자로 조회할 데이터의 개수를 지정할 수 있다.(ex. fetchmany(size = 10))"
   ]
  },
  {
   "cell_type": "code",
   "execution_count": 14,
   "metadata": {},
   "outputs": [
    {
     "name": "stdout",
     "output_type": "stream",
     "text": [
      "('215673140', '스위트바니 여름신상 롱원피스', 23000, 6900, 70, 'F')\n"
     ]
    }
   ],
   "source": [
    "import pymysql\n",
    "db = pymysql.connect(host='localhost', port=3306, user='root', passwd='qwer1234', db='ecommerce', charset='utf8')\n",
    "cursor = db.cursor()\n",
    "\n",
    "sql = \"SELECT * FROM product\"\n",
    "cursor.execute(sql)\n",
    "\n",
    "result = cursor.fetchone()\n",
    "print(result)\n",
    "db.close()"
   ]
  },
  {
   "cell_type": "markdown",
   "metadata": {},
   "source": [
    "### 데이터 수정\n"
   ]
  },
  {
   "cell_type": "code",
   "execution_count": 16,
   "metadata": {},
   "outputs": [],
   "source": [
    "import pymysql\n",
    "db = pymysql.connect(host='localhost', port=3306, user='root', passwd='qwer1234', db='ecommerce', charset='utf8')\n",
    "cursor = db.cursor()\n",
    "\n",
    "SQL = \"\"\"\n",
    "UPDATE product SET \n",
    "    TITLE='달리샵린넨원피스 뷔스티에 썸머 가디건 코디전', \n",
    "    ORI_PRICE=33000, \n",
    "    DISCOUNT_PRICE=9900, \n",
    "    DISCOUNT_PERCENT=70 \n",
    "    WHERE PRODUCT_CODE='215673141'\n",
    "\"\"\"\n",
    "\n",
    "cursor.execute(SQL)\n",
    "db.commit()\n",
    "db.close()"
   ]
  },
  {
   "cell_type": "markdown",
   "metadata": {},
   "source": [
    "### 데이터 삭제"
   ]
  },
  {
   "cell_type": "code",
   "execution_count": 18,
   "metadata": {},
   "outputs": [],
   "source": [
    "import pymysql\n",
    "db = pymysql.connect(host='localhost', port=3306, user='root', passwd='qwer1234', db='ecommerce', charset='utf8')\n",
    "cursor = db.cursor()\n",
    "\n",
    "SQL = \"\"\"DELETE FROM product WHERE PRODUCT_CODE='215673142'\"\"\"\n",
    "cursor.execute(SQL)\n",
    "\n",
    "db.commit()\n",
    "db.close()"
   ]
  },
  {
   "cell_type": "code",
   "execution_count": null,
   "metadata": {},
   "outputs": [],
   "source": []
  }
 ],
 "metadata": {
  "kernelspec": {
   "display_name": "base",
   "language": "python",
   "name": "python3"
  },
  "language_info": {
   "codemirror_mode": {
    "name": "ipython",
    "version": 3
   },
   "file_extension": ".py",
   "mimetype": "text/x-python",
   "name": "python",
   "nbconvert_exporter": "python",
   "pygments_lexer": "ipython3",
   "version": "3.9.13"
  },
  "orig_nbformat": 4
 },
 "nbformat": 4,
 "nbformat_minor": 2
}
